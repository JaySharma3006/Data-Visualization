{
  "nbformat": 4,
  "nbformat_minor": 0,
  "metadata": {
    "colab": {
      "name": "Assi 1(Q3).ipynb",
      "provenance": [],
      "collapsed_sections": [],
      "authorship_tag": "ABX9TyPruiS+DYO6I1koBNyhizot",
      "include_colab_link": true
    },
    "kernelspec": {
      "name": "python3",
      "display_name": "Python 3"
    },
    "language_info": {
      "name": "python"
    }
  },
  "cells": [
    {
      "cell_type": "markdown",
      "metadata": {
        "id": "view-in-github",
        "colab_type": "text"
      },
      "source": [
        "<a href=\"https://colab.research.google.com/github/JaySharma3006/Data-Visualization-Assignments/blob/main/Assi_1(Q3).ipynb\" target=\"_parent\"><img src=\"https://colab.research.google.com/assets/colab-badge.svg\" alt=\"Open In Colab\"/></a>"
      ]
    },
    {
      "cell_type": "code",
      "metadata": {
        "id": "mhmKBl02_fsQ"
      },
      "source": [
        "import numpy as np\n",
        "import pandas as pd\n",
        "import seaborn as sns\n",
        "\n",
        "import matplotlib as mpl\n",
        "import matplotlib.pyplot as plt\n",
        "%matplotlib inline"
      ],
      "execution_count": 1,
      "outputs": []
    },
    {
      "cell_type": "code",
      "metadata": {
        "colab": {
          "base_uri": "https://localhost:8080/"
        },
        "id": "OkOZoL4xBOjt",
        "outputId": "0484722e-0693-4c7f-c413-496d5a4fa60e"
      },
      "source": [
        "print('vers:',mpl.__version__)"
      ],
      "execution_count": 2,
      "outputs": [
        {
          "output_type": "stream",
          "text": [
            "vers: 3.2.2\n"
          ],
          "name": "stdout"
        }
      ]
    },
    {
      "cell_type": "code",
      "metadata": {
        "id": "Ho-4oadeBRYc"
      },
      "source": [
        "from numpy.random import randn, randint, uniform, sample"
      ],
      "execution_count": 3,
      "outputs": []
    },
    {
      "cell_type": "code",
      "metadata": {
        "id": "SITdMtCXBVFf"
      },
      "source": [
        "x = [1,2,3,4]\n",
        "y1 = [4,3,2,1]\n",
        "y2 = [10,20,30,40]\n",
        "y3 = [40,30,20,10]\n",
        "y4 = [1,2,1,2]\n",
        "y5 = [40,70,90,70]\n"
      ],
      "execution_count": 4,
      "outputs": []
    },
    {
      "cell_type": "code",
      "metadata": {
        "colab": {
          "base_uri": "https://localhost:8080/",
          "height": 283
        },
        "id": "GY0xAtU8BjxI",
        "outputId": "0e2ffc0f-761d-435b-fde1-baf1419fd56c"
      },
      "source": [
        "plt.subplot(3,3,1)\n",
        "plt.plot(x,y1,'r*-')\n",
        "plt.subplot(3,3,2)\n",
        "plt.plot(x,y2,'g.-')\n",
        "plt.subplot(3,3,3)\n",
        "plt.plot(x,y3,'^k:')\n",
        "plt.subplot(3,3,4)\n",
        "plt.plot(x,y4,'rd-')\n",
        "plt.subplot(3,3,5)\n",
        "plt.plot(x,y5,'g*-')\n",
        "plt.subplot(3,3,6)\n",
        "plt.plot(y2,y1,'^b:')\n",
        "plt.subplot(3,3,7)\n",
        "plt.plot(y3,y1,'r*-')\n",
        "plt.subplot(3,3,8)\n",
        "plt.plot(y4,y1,'g^:')\n",
        "plt.subplot(3,3,9)\n",
        "plt.plot(y5,y1,'bd-')\n"
      ],
      "execution_count": 13,
      "outputs": [
        {
          "output_type": "execute_result",
          "data": {
            "text/plain": [
              "[<matplotlib.lines.Line2D at 0x7f26e1c45d50>]"
            ]
          },
          "metadata": {
            "tags": []
          },
          "execution_count": 13
        },
        {
          "output_type": "display_data",
          "data": {
            "image/png": "[encoded data removed]",
            "text/plain": [
              "<Figure size 432x288 with 9 Axes>"
            ]
          },
          "metadata": {
            "tags": [],
            "needs_background": "light"
          }
        }
      ]
    },
    {
      "cell_type": "code",
      "metadata": {
        "id": "PNWxzU95HUBV"
      },
      "source": [
        ""
      ],
      "execution_count": null,
      "outputs": []
    }
  ]
}
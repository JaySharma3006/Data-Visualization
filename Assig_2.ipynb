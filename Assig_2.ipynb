{
  "nbformat": 4,
  "nbformat_minor": 0,
  "metadata": {
    "colab": {
      "name": "Assig_2.ipynb",
      "provenance": [],
      "collapsed_sections": [],
      "authorship_tag": "ABX9TyMuucy8AgQ9xTS95v4TPV6X",
      "include_colab_link": true
    },
    "kernelspec": {
      "name": "python3",
      "display_name": "Python 3"
    },
    "language_info": {
      "name": "python"
    }
  },
  "cells": [
    {
      "cell_type": "markdown",
      "metadata": {
        "id": "view-in-github",
        "colab_type": "text"
      },
      "source": [
        "<a href=\"https://colab.research.google.com/github/JaySharma3006/Data-Visualization-Assignments/blob/main/Assig_2.ipynb\" target=\"_parent\"><img src=\"https://colab.research.google.com/assets/colab-badge.svg\" alt=\"Open In Colab\"/></a>"
      ]
    },
    {
      "cell_type": "code",
      "metadata": {
        "id": "W91i9VVa4GD7"
      },
      "source": [
        "import matplotlib.pyplot as plt\n",
        "import numpy as np\n",
        "import pandas as pd\n",
        "%matplotlib inline\n",
        "import seaborn as sns\n",
        "from numpy.random import randn, randint, uniform, sample"
      ],
      "execution_count": 1,
      "outputs": []
    },
    {
      "cell_type": "code",
      "metadata": {
        "colab": {
          "base_uri": "https://localhost:8080/",
          "height": 357
        },
        "id": "MG-HU-_s4GvM",
        "outputId": "503a4131-bf63-47fa-8975-52809ad08dde"
      },
      "source": [
        "df=pd.DataFrame(randn(10,4), columns=['a','b','c','d'])\n",
        "df"
      ],
      "execution_count": 2,
      "outputs": [
        {
          "output_type": "execute_result",
          "data": {
            "text/html": [
              "<div>\n",
              "<style scoped>\n",
              "    .dataframe tbody tr th:only-of-type {\n",
              "        vertical-align: middle;\n",
              "    }\n",
              "\n",
              "    .dataframe tbody tr th {\n",
              "        vertical-align: top;\n",
              "    }\n",
              "\n",
              "    .dataframe thead th {\n",
              "        text-align: right;\n",
              "    }\n",
              "</style>\n",
              "<table border=\"1\" class=\"dataframe\">\n",
              "  <thead>\n",
              "    <tr style=\"text-align: right;\">\n",
              "      <th></th>\n",
              "      <th>a</th>\n",
              "      <th>b</th>\n",
              "      <th>c</th>\n",
              "      <th>d</th>\n",
              "    </tr>\n",
              "  </thead>\n",
              "  <tbody>\n",
              "    <tr>\n",
              "      <th>0</th>\n",
              "      <td>-0.071652</td>\n",
              "      <td>0.929009</td>\n",
              "      <td>-0.352624</td>\n",
              "      <td>0.980417</td>\n",
              "    </tr>\n",
              "    <tr>\n",
              "      <th>1</th>\n",
              "      <td>-0.968432</td>\n",
              "      <td>0.358938</td>\n",
              "      <td>-0.519622</td>\n",
              "      <td>-0.832135</td>\n",
              "    </tr>\n",
              "    <tr>\n",
              "      <th>2</th>\n",
              "      <td>-0.398188</td>\n",
              "      <td>-0.046209</td>\n",
              "      <td>0.298566</td>\n",
              "      <td>-0.272872</td>\n",
              "    </tr>\n",
              "    <tr>\n",
              "      <th>3</th>\n",
              "      <td>-0.366417</td>\n",
              "      <td>0.143424</td>\n",
              "      <td>-1.704392</td>\n",
              "      <td>-0.785886</td>\n",
              "    </tr>\n",
              "    <tr>\n",
              "      <th>4</th>\n",
              "      <td>0.014038</td>\n",
              "      <td>2.013226</td>\n",
              "      <td>-1.017911</td>\n",
              "      <td>-2.349077</td>\n",
              "    </tr>\n",
              "    <tr>\n",
              "      <th>5</th>\n",
              "      <td>0.859791</td>\n",
              "      <td>0.105631</td>\n",
              "      <td>-0.740165</td>\n",
              "      <td>-2.221066</td>\n",
              "    </tr>\n",
              "    <tr>\n",
              "      <th>6</th>\n",
              "      <td>0.497681</td>\n",
              "      <td>1.058808</td>\n",
              "      <td>-2.783182</td>\n",
              "      <td>-1.171924</td>\n",
              "    </tr>\n",
              "    <tr>\n",
              "      <th>7</th>\n",
              "      <td>-1.366208</td>\n",
              "      <td>-0.205304</td>\n",
              "      <td>0.552740</td>\n",
              "      <td>0.740532</td>\n",
              "    </tr>\n",
              "    <tr>\n",
              "      <th>8</th>\n",
              "      <td>-1.617527</td>\n",
              "      <td>-0.164083</td>\n",
              "      <td>-1.076917</td>\n",
              "      <td>-0.428830</td>\n",
              "    </tr>\n",
              "    <tr>\n",
              "      <th>9</th>\n",
              "      <td>1.922598</td>\n",
              "      <td>0.059725</td>\n",
              "      <td>0.701216</td>\n",
              "      <td>-2.204512</td>\n",
              "    </tr>\n",
              "  </tbody>\n",
              "</table>\n",
              "</div>"
            ],
            "text/plain": [
              "          a         b         c         d\n",
              "0 -0.071652  0.929009 -0.352624  0.980417\n",
              "1 -0.968432  0.358938 -0.519622 -0.832135\n",
              "2 -0.398188 -0.046209  0.298566 -0.272872\n",
              "3 -0.366417  0.143424 -1.704392 -0.785886\n",
              "4  0.014038  2.013226 -1.017911 -2.349077\n",
              "5  0.859791  0.105631 -0.740165 -2.221066\n",
              "6  0.497681  1.058808 -2.783182 -1.171924\n",
              "7 -1.366208 -0.205304  0.552740  0.740532\n",
              "8 -1.617527 -0.164083 -1.076917 -0.428830\n",
              "9  1.922598  0.059725  0.701216 -2.204512"
            ]
          },
          "metadata": {
            "tags": []
          },
          "execution_count": 2
        }
      ]
    },
    {
      "cell_type": "code",
      "metadata": {
        "colab": {
          "base_uri": "https://localhost:8080/",
          "height": 458
        },
        "id": "Lzkb6fpd4InC",
        "outputId": "a81e2a93-9f5c-439d-bc2a-559d248062d1"
      },
      "source": [
        "df.plot(kind='bar',title='Bar Chart',figsize=(7,7),grid=True,legend = True)"
      ],
      "execution_count": 4,
      "outputs": [
        {
          "output_type": "execute_result",
          "data": {
            "text/plain": [
              "<matplotlib.axes._subplots.AxesSubplot at 0x7fe079912790>"
            ]
          },
          "metadata": {
            "tags": []
          },
          "execution_count": 4
        },
        {
          "output_type": "display_data",
          "data": {
            "image/png": "[encoded data removed]",
            "text/plain": [
              "<Figure size 504x504 with 1 Axes>"
            ]
          },
          "metadata": {
            "tags": [],
            "needs_background": "light"
          }
        }
      ]
    },
    {
      "cell_type": "code",
      "metadata": {
        "id": "nzC76aEp4Mwk"
      },
      "source": [
        ""
      ],
      "execution_count": null,
      "outputs": []
    }
  ]
}
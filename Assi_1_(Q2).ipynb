{
  "nbformat": 4,
  "nbformat_minor": 0,
  "metadata": {
    "colab": {
      "name": "Assi 1 (Q2).ipynb",
      "provenance": [],
      "collapsed_sections": [],
      "authorship_tag": "ABX9TyMvMqA2Q8M572ISAqwmCgLP",
      "include_colab_link": true
    },
    "kernelspec": {
      "name": "python3",
      "display_name": "Python 3"
    },
    "language_info": {
      "name": "python"
    }
  },
  "cells": [
    {
      "cell_type": "markdown",
      "metadata": {
        "id": "view-in-github",
        "colab_type": "text"
      },
      "source": [
        "<a href=\"https://colab.research.google.com/github/JaySharma3006/Data-Visualization-Assignments/blob/main/Assi_1_(Q2).ipynb\" target=\"_parent\"><img src=\"https://colab.research.google.com/assets/colab-badge.svg\" alt=\"Open In Colab\"/></a>"
      ]
    },
    {
      "cell_type": "code",
      "metadata": {
        "id": "7kLaRolA_h81"
      },
      "source": [
        "import numpy as np\n",
        "import pandas as pd\n",
        "import seaborn as sns\n",
        "\n",
        "import matplotlib as mpl\n",
        "import matplotlib.pyplot as plt\n",
        "%matplotlib inline"
      ],
      "execution_count": 1,
      "outputs": []
    },
    {
      "cell_type": "code",
      "metadata": {
        "colab": {
          "base_uri": "https://localhost:8080/"
        },
        "id": "1XRsUAhCBPu6",
        "outputId": "b78fda56-cf49-4129-9556-25e1dfb1d28f"
      },
      "source": [
        "print('vers:',mpl.__version__)\n"
      ],
      "execution_count": 2,
      "outputs": [
        {
          "output_type": "stream",
          "text": [
            "vers: 3.2.2\n"
          ],
          "name": "stdout"
        }
      ]
    },
    {
      "cell_type": "code",
      "metadata": {
        "id": "V7pLQ7V0BSqs"
      },
      "source": [
        "from numpy.random import randn, randint, uniform, sample"
      ],
      "execution_count": 3,
      "outputs": []
    },
    {
      "cell_type": "code",
      "metadata": {
        "id": "gY2GUSGwBV_g"
      },
      "source": [
        "days = [1,2,3,4,5,6,7] \n",
        "sales_1 = [160,150,140,145,175,165,180] \n",
        "sales_2 = [70,90,160,150,140,145,175]  \n"
      ],
      "execution_count": 4,
      "outputs": []
    },
    {
      "cell_type": "code",
      "metadata": {
        "colab": {
          "base_uri": "https://localhost:8080/",
          "height": 312
        },
        "id": "xD6VsxaGBgZu",
        "outputId": "f11c5c74-34fb-45f3-f037-1fb226cc22f4"
      },
      "source": [
        "plt.plot(sales_1,days, color='blue', marker='*', linestyle='solid',\n",
        "...      linewidth=1, markersize=10)\n",
        "plt.plot(sales_2,days, color='green', marker='*', linestyle='solid',\n",
        "...      linewidth=1, markersize=10)\n",
        "plt.title('Assignment 1(Q 2)-Sales of Company 1 and 2')\n",
        "plt.xlabel('sales')\n",
        "plt.ylabel('days')\n",
        "\n",
        "\n",
        "\n"
      ],
      "execution_count": 11,
      "outputs": [
        {
          "output_type": "execute_result",
          "data": {
            "text/plain": [
              "Text(0, 0.5, 'days')"
            ]
          },
          "metadata": {
            "tags": []
          },
          "execution_count": 11
        },
        {
          "output_type": "display_data",
          "data": {
            "image/png": "[encoded data removed]",
            "text/plain": [
              "<Figure size 432x288 with 1 Axes>"
            ]
          },
          "metadata": {
            "tags": [],
            "needs_background": "light"
          }
        }
      ]
    },
    {
      "cell_type": "code",
      "metadata": {
        "id": "eblioeoYFwDE"
      },
      "source": [
        ""
      ],
      "execution_count": null,
      "outputs": []
    }
  ]
}